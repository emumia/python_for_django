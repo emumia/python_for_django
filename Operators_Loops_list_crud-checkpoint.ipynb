{
 "cells": [
  {
   "cell_type": "markdown",
   "id": "46fd171b",
   "metadata": {},
   "source": [
    "# Arithmatic operator\n"
   ]
  },
  {
   "cell_type": "code",
   "execution_count": 3,
   "id": "b6ff660f",
   "metadata": {},
   "outputs": [
    {
     "name": "stdout",
     "output_type": "stream",
     "text": [
      "Add: 7\n",
      "sub: 3\n",
      "mul: 10\n",
      "mod: 1\n",
      "exp: 25\n",
      "floor div: 2\n"
     ]
    }
   ],
   "source": [
    "x = 5\n",
    "y = 2\n",
    "print('Add:',x+y)\n",
    "print('sub:',x-y)\n",
    "print('mul:',x*y)\n",
    "print('mod:',x%y)\n",
    "print('exp:',x**y)\n",
    "print('floor div:',x//y)"
   ]
  },
  {
   "cell_type": "markdown",
   "id": "4d193860",
   "metadata": {},
   "source": [
    "# Assignment operator"
   ]
  },
  {
   "cell_type": "code",
   "execution_count": 4,
   "id": "7371181f",
   "metadata": {},
   "outputs": [
    {
     "name": "stdout",
     "output_type": "stream",
     "text": [
      "assign 2\n",
      "Add and assign: 4\n",
      "sub and assign: 2\n",
      "mul and assign: 4\n",
      "div and assign: 2.0\n",
      "md and assign: 0.0\n"
     ]
    }
   ],
   "source": [
    "\n",
    "x = 5\n",
    "y = 2\n",
    "\n",
    "x = y\n",
    "print('assign',x)\n",
    "\n",
    "x+=y      #x = x+y   2+2=4\n",
    "print('Add and assign:',x)\n",
    "\n",
    "x-=y      #x = x-y   4-2=2\n",
    "print('sub and assign:',x)\n",
    "\n",
    "x*=y      #x = x*y   2*2=4\n",
    "print('mul and assign:',x)\n",
    "\n",
    "x/=y      #x = x/y   4/2=2\n",
    "print('div and assign:',x)\n",
    "\n",
    "x%=y      #x = x%y   2%2=0\n",
    "print('md and assign:',x)"
   ]
  },
  {
   "cell_type": "markdown",
   "id": "250498bb",
   "metadata": {},
   "source": [
    "# Comparision Operators"
   ]
  },
  {
   "cell_type": "code",
   "execution_count": 5,
   "id": "8eb998f9",
   "metadata": {},
   "outputs": [
    {
     "name": "stdout",
     "output_type": "stream",
     "text": [
      "less than:  False\n",
      "GT than:  False\n",
      "less than:  True\n",
      "GT than:  True\n",
      "equal to :  True\n",
      "not equal to :  False\n"
     ]
    }
   ],
   "source": [
    "x = 5\n",
    "y = 5\n",
    "print(\"less than: \", x<y)\n",
    "print(\"GT than: \", x>y)\n",
    "\n",
    "print(\"less than: \", x<=y)\n",
    "print(\"GT than: \", x>=y)\n",
    "print(\"equal to : \", x==y)\n",
    "print(\"not equal to : \", x!=y)"
   ]
  },
  {
   "cell_type": "markdown",
   "id": "ac36731e",
   "metadata": {},
   "source": [
    "# logical operators"
   ]
  },
  {
   "cell_type": "code",
   "execution_count": 6,
   "id": "a1702464",
   "metadata": {},
   "outputs": [
    {
     "name": "stdout",
     "output_type": "stream",
     "text": [
      "False\n",
      "True\n",
      "True\n"
     ]
    }
   ],
   "source": [
    "x = 15\n",
    "y = 7\n",
    "\n",
    "print(x>y and x<y)  # both statement true\n",
    "print(x>y or x<y) # if 1 statement true result will be true\n",
    "print(not(x>y and x<y))"
   ]
  },
  {
   "cell_type": "markdown",
   "id": "7cd8b891",
   "metadata": {},
   "source": [
    "# Bitwise operator"
   ]
  },
  {
   "cell_type": "code",
   "execution_count": 7,
   "id": "f868ef42",
   "metadata": {},
   "outputs": [
    {
     "name": "stdout",
     "output_type": "stream",
     "text": [
      "complement op: -13\n",
      "bit and op: 0\n",
      "bit or op: 14\n",
      "bit xor op: 14\n",
      "left shift op: 48\n",
      "right s op: 3\n"
     ]
    }
   ],
   "source": [
    "x = 12\n",
    "y = 2\n",
    "\n",
    "print('complement op:',~x)\n",
    "print('bit and op:',x&y)\n",
    "print('bit or op:',x|y)\n",
    "print('bit xor op:',x^y)\n",
    "print('left shift op:',x<<y)\n",
    "print('right s op:',x>>y)\n"
   ]
  },
  {
   "cell_type": "markdown",
   "id": "72e87918",
   "metadata": {},
   "source": [
    "# membership operators"
   ]
  },
  {
   "cell_type": "code",
   "execution_count": 8,
   "id": "aa2e5aca",
   "metadata": {},
   "outputs": [
    {
     "name": "stdout",
     "output_type": "stream",
     "text": [
      "True\n",
      "False\n"
     ]
    }
   ],
   "source": [
    "x = ['python','Django']\n",
    "print('Django' in x)\n",
    "print('Django' not in x)"
   ]
  },
  {
   "cell_type": "markdown",
   "id": "efe7a952",
   "metadata": {},
   "source": [
    "# Identity operators"
   ]
  },
  {
   "cell_type": "code",
   "execution_count": 9,
   "id": "669ea7c2",
   "metadata": {},
   "outputs": [
    {
     "name": "stdout",
     "output_type": "stream",
     "text": [
      "True\n",
      "True\n",
      "False\n",
      "False\n"
     ]
    }
   ],
   "source": [
    "x = 12\n",
    "y = 12\n",
    "print(x is y)\n",
    "print(x == y)\n",
    "\n",
    "print(x is not y)\n",
    "print(x != y)"
   ]
  },
  {
   "cell_type": "markdown",
   "id": "84b907e8",
   "metadata": {},
   "source": [
    "# condition"
   ]
  },
  {
   "cell_type": "code",
   "execution_count": 11,
   "id": "64dd40db",
   "metadata": {},
   "outputs": [
    {
     "name": "stdout",
     "output_type": "stream",
     "text": [
      "patlu has gt than motu & jhatka\n"
     ]
    }
   ],
   "source": [
    "motu = 100\n",
    "patlu = 5000\n",
    "jhatka = 700\n",
    "if(motu>patlu and motu>jhatka):\n",
    "    print('Motu has gt than patlu jhatka')  #indentation error\n",
    "\n",
    "elif(patlu>motu and patlu>jhatka):\n",
    "    print('patlu has gt than motu & jhatka')\n",
    "\n",
    "else:\n",
    "    print('jhatka more than motu and patlu')"
   ]
  },
  {
   "cell_type": "markdown",
   "id": "9bb0114e",
   "metadata": {},
   "source": [
    "# for loops"
   ]
  },
  {
   "cell_type": "code",
   "execution_count": 12,
   "id": "ff2cc103",
   "metadata": {},
   "outputs": [
    {
     "name": "stdout",
     "output_type": "stream",
     "text": [
      "Fruit name:  banana\n",
      "Fruit length:  6\n",
      "Fruit name:  orange\n",
      "Fruit length:  6\n",
      "This is your range: 2\n",
      "This is your range: 4\n",
      "This is your range: 6\n",
      "This is your range: 8\n",
      "This is your range: 10\n",
      "This is your range: 12\n",
      "This is your range: 14\n",
      "This is your range: 16\n",
      "This is your range: 18\n",
      "This is your range: 20\n",
      "This is your range: 22\n",
      "This is your range: 24\n",
      "This is your range: 26\n",
      "This is your range: 28\n",
      "This is your range: 30\n",
      "This is your range: 32\n",
      "This is your range: 34\n",
      "This is your range: 36\n",
      "This is your range: 38\n",
      "This is your range: 40\n",
      "This is your range: 42\n",
      "This is your range: 44\n",
      "This is your range: 46\n",
      "This is your range: 48\n",
      "This is your range: 50\n",
      "This is your range: 52\n",
      "This is your range: 54\n",
      "This is your range: 56\n",
      "This is your range: 58\n",
      "This is your range: 60\n",
      "This is your range: 62\n",
      "This is your range: 64\n",
      "This is your range: 66\n",
      "This is your range: 68\n",
      "This is your range: 70\n",
      "This is your range: 72\n",
      "This is your range: 74\n",
      "This is your range: 76\n",
      "This is your range: 78\n",
      "This is your range: 80\n",
      "This is your range: 82\n",
      "This is your range: 84\n",
      "This is your range: 86\n",
      "This is your range: 88\n",
      "This is your range: 90\n",
      "This is your range: 92\n",
      "This is your range: 94\n",
      "This is your range: 96\n",
      "This is your range: 98\n"
     ]
    }
   ],
   "source": [
    "fruits = ['banana','apple','orange']\n",
    "for fruit in fruits:\n",
    "    if fruit == 'apple':\n",
    "        continue\n",
    "    print('Fruit name: ',fruit)\n",
    "    print('Fruit length: ',len(fruit))\n",
    "\n",
    "#range function\n",
    "for i in range(2,100,2):\n",
    "    print('This is your range:', i)"
   ]
  },
  {
   "cell_type": "code",
   "execution_count": 16,
   "id": "af5d8fa0",
   "metadata": {},
   "outputs": [
    {
     "name": "stdout",
     "output_type": "stream",
     "text": [
      "odd numbers are:  1\n",
      "odd numbers are:  3\n",
      "odd numbers are:  5\n",
      "odd numbers are:  7\n",
      "odd numbers are:  9\n",
      "odd numbers are:  11\n",
      "odd numbers are:  13\n",
      "odd numbers are:  15\n",
      "odd numbers are:  17\n",
      "odd numbers are:  19\n",
      "odd numbers are:  21\n",
      "odd numbers are:  23\n",
      "odd numbers are:  25\n",
      "odd numbers are:  27\n",
      "odd numbers are:  29\n",
      "odd numbers are:  31\n",
      "odd numbers are:  33\n",
      "odd numbers are:  35\n",
      "odd numbers are:  37\n",
      "odd numbers are:  39\n",
      "odd numbers are:  41\n",
      "odd numbers are:  43\n",
      "odd numbers are:  45\n",
      "odd numbers are:  47\n",
      "odd numbers are:  49\n",
      "odd numbers are:  51\n",
      "odd numbers are:  53\n",
      "odd numbers are:  55\n",
      "odd numbers are:  57\n",
      "odd numbers are:  59\n",
      "odd numbers are:  61\n",
      "odd numbers are:  63\n",
      "odd numbers are:  65\n",
      "odd numbers are:  67\n",
      "odd numbers are:  69\n"
     ]
    }
   ],
   "source": [
    "\n",
    "for num in range(70):\n",
    "    if num%2 == 0:\n",
    "        continue\n",
    "    print('odd numbers are: ',num)"
   ]
  },
  {
   "cell_type": "markdown",
   "id": "eca49926",
   "metadata": {},
   "source": [
    "# while loop"
   ]
  },
  {
   "cell_type": "code",
   "execution_count": 17,
   "id": "260af470",
   "metadata": {},
   "outputs": [
    {
     "name": "stdout",
     "output_type": "stream",
     "text": [
      "6\n",
      "7\n",
      "8\n",
      "9\n",
      "11\n",
      "12\n",
      "13\n",
      "14\n",
      "15\n",
      "Invalid condition\n"
     ]
    }
   ],
   "source": [
    "i = 5\n",
    "while i<15:\n",
    "    i += 1\n",
    "    if i == 10:\n",
    "        continue\n",
    "    print(i)\n",
    "\n",
    "\n",
    "else:\n",
    "    print('Invalid condition')"
   ]
  },
  {
   "cell_type": "markdown",
   "id": "74d6c3bb",
   "metadata": {},
   "source": [
    "# list"
   ]
  },
  {
   "cell_type": "code",
   "execution_count": 18,
   "id": "d370c114",
   "metadata": {},
   "outputs": [
    {
     "name": "stdout",
     "output_type": "stream",
     "text": [
      "['python', 4, 'Django', 16, 'ML', 20, 'DL', 22]\n",
      "<class 'list'>\n",
      "8\n",
      "list item: ML\n",
      "list item: DL\n",
      "Range ['Django', 16, 'ML']\n",
      "Range ['python', 4, 'Django', 16, 'ML']\n",
      "Range ['Django', 16, 'ML', 20, 'DL', 22]\n",
      "Range []\n",
      "Range ['python', 4, 'Django']\n",
      "Range ['DL', 22]\n",
      "New list ['python', 33, 'Django', 16, 'ML', 20, 'DL', 22]\n",
      "New insert list ['Aiquest', 'python', 33, 'Django', 16, 'ML', 20, 'DL', 22]\n",
      "append ['Aiquest', 'python', 33, 'Django', 16, 'ML', 20, 'DL', 22, 'Studymart']\n",
      "Remove ['Aiquest', 'python', 33, 'Django', 16, 'ML', 'DL', 22, 'Studymart']\n",
      "pop ['Aiquest', 'python', 33, 'Django', 16, 'ML', 'DL', 22]\n",
      "del ['Aiquest', 33, 'Django', 16, 'ML', 'DL', 22]\n"
     ]
    }
   ],
   "source": [
    "course = ['python',4,'Django',16,'ML',20,'DL',22]\n",
    "print(course)\n",
    "print(type(course))\n",
    "print(len(course))\n",
    "\n",
    "#access item\n",
    "print('list item:',course[4])\n",
    "print('list item:',course[-2])\n",
    "print('Range', course[2:5])\n",
    "print('Range', course[:5])\n",
    "print('Range', course[2:])\n",
    "\n",
    "#neg index range\n",
    "print('Range', course[-2:-5])\n",
    "print('Range', course[:-5])\n",
    "print('Range', course[-2:])\n",
    "\n",
    "#change value\n",
    "course[1] = 33\n",
    "print('New list', course)\n",
    "\n",
    "#insert\n",
    "course.insert(0,'Aiquest')\n",
    "print('New insert list', course)\n",
    "\n",
    "#append\n",
    "course.append('Studymart')\n",
    "print('append',course)\n",
    "\n",
    "#remove\n",
    "course.remove(20)\n",
    "print('Remove',course)\n",
    "\n",
    "#pop()\n",
    "course.pop()\n",
    "print('pop',course)\n",
    "\n",
    "#del\n",
    "del course[1]\n",
    "print('del',course)\n",
    "\n"
   ]
  },
  {
   "cell_type": "markdown",
   "id": "9f7f889a",
   "metadata": {},
   "source": [
    "# numeric sorting"
   ]
  },
  {
   "cell_type": "code",
   "execution_count": 19,
   "id": "54c88173",
   "metadata": {},
   "outputs": [
    {
     "name": "stdout",
     "output_type": "stream",
     "text": [
      "[1, 5, 20, 22, 29, 34]\n"
     ]
    }
   ],
   "source": [
    "numeric = [34,1,20,22,5,29]\n",
    "numeric.sort()\n",
    "print(numeric)"
   ]
  },
  {
   "cell_type": "markdown",
   "id": "d61e0059",
   "metadata": {},
   "source": [
    "# CRUD = CREATE,READ,UPDATE,DELETE"
   ]
  },
  {
   "cell_type": "code",
   "execution_count": 20,
   "id": "06cd453c",
   "metadata": {},
   "outputs": [
    {
     "name": "stdout",
     "output_type": "stream",
     "text": [
      "What do you want? Enter Choice : read / add / update / delete / quite: add\n",
      "Please add element to your list : imran\n",
      "This is your added list ['5', '7', 'aiquest', 'Studymart', 'imran']\n",
      "What do you want? Enter Choice : read / add / update / delete / quite: quite\n",
      "You exist from program\n"
     ]
    }
   ],
   "source": [
    "createList = ['5', '7', 'aiquest', 'Studymart']\n",
    "\n",
    "while True:\n",
    "    create_list = input(\"What do you want? Enter Choice : read / add / update / delete / quite: \")\n",
    "    if create_list == \"quite\":\n",
    "        print(\"You exist from program\")\n",
    "        break\n",
    "\n",
    "#read your list\n",
    "    elif create_list == 'read':\n",
    "        print(\"Congratulations! This is your list: \",createList)\n",
    "\n",
    "#add your list\n",
    "    elif create_list == 'add':\n",
    "        createList.append(input(\"Please add element to your list : \"))\n",
    "        print(\"This is your added list\",createList)\n",
    "\n",
    "#delete element from your list\n",
    "    elif create_list == 'delete':\n",
    "        dl = input(\"Enter deleted item: \",)\n",
    "        if dl in createList:\n",
    "            createList.remove(dl)\n",
    "        else:\n",
    "            print(\"Not matched item\")\n",
    "        print(\"This is your deleted list\",createList)\n",
    "\n",
    "# update element from your list\n",
    "    elif create_list == 'update':\n",
    "        up_wrong = input(\"Enter  wrong item: \", )\n",
    "        up_right = input(\"Enter right item: \", )\n",
    "        if up_wrong in createList:\n",
    "            wr = createList.index(up_wrong)\n",
    "            createList[wr] = up_right\n",
    "        else:\n",
    "            print(\"Not matched item\")\n",
    "        print(\"This is your updated list\", createList)\n",
    "\n",
    "#for right command\n",
    "    else:\n",
    "        print(\"Please enter right command.\")\n"
   ]
  },
  {
   "cell_type": "code",
   "execution_count": null,
   "id": "a31107bc",
   "metadata": {},
   "outputs": [],
   "source": []
  }
 ],
 "metadata": {
  "kernelspec": {
   "display_name": "Python 3 (ipykernel)",
   "language": "python",
   "name": "python3"
  },
  "language_info": {
   "codemirror_mode": {
    "name": "ipython",
    "version": 3
   },
   "file_extension": ".py",
   "mimetype": "text/x-python",
   "name": "python",
   "nbconvert_exporter": "python",
   "pygments_lexer": "ipython3",
   "version": "3.9.13"
  }
 },
 "nbformat": 4,
 "nbformat_minor": 5
}
