{
 "cells": [
  {
   "cell_type": "markdown",
   "id": "c2eab6f2",
   "metadata": {},
   "source": [
    "# Tuple and convert tuple to list"
   ]
  },
  {
   "cell_type": "code",
   "execution_count": 4,
   "id": "5f542696",
   "metadata": {},
   "outputs": [
    {
     "name": "stdout",
     "output_type": "stream",
     "text": [
      "('create', 'read', 'update', 'delete', 'view')\n",
      "<class 'tuple'>\n",
      "Access item:  view\n",
      "range1 ('update', 'delete', 'view')\n",
      "range2 ('update', 'delete')\n",
      "range3 ('create', 'read')\n",
      "range4 ('delete', 'view')\n",
      "Update Item:  ('create', 'read', 'Django', 'delete', 'view')\n",
      "Add Item:  ('create', 'read', 'Django', 'delete', 'view', 'aiQuest')\n",
      "Remove Item:  ('create', 'Django', 'delete', 'view', 'aiQuest')\n"
     ]
    }
   ],
   "source": [
    "details = ('create', 'read', 'update', 'delete','view')\n",
    "print(details)\n",
    "print(type(details))\n",
    "\n",
    "#Access item\n",
    "print('Access item: ', details[-1])\n",
    "\n",
    "#range\n",
    "print('range1', details[2:])\n",
    "print('range2', details[2:4])\n",
    "print('range3', details[:2])\n",
    "print('range4', details[-2:])\n",
    "\n",
    "#update\n",
    "cd = list(details)\n",
    "cd[2] = 'Django'\n",
    "details = tuple(cd)\n",
    "print('Update Item: ', details)\n",
    "\n",
    "#Add item\n",
    "cd = list(details)\n",
    "cd.append('aiQuest')\n",
    "details = tuple(cd)\n",
    "print('Add Item: ', details)\n",
    "\n",
    "#Remove item\n",
    "cd = list(details)\n",
    "cd.remove('read')\n",
    "details = tuple(cd)\n",
    "print('Remove Item: ', details)"
   ]
  },
  {
   "cell_type": "markdown",
   "id": "d229335e",
   "metadata": {},
   "source": [
    "# Set"
   ]
  },
  {
   "cell_type": "code",
   "execution_count": 6,
   "id": "32733c0e",
   "metadata": {},
   "outputs": [
    {
     "name": "stdout",
     "output_type": "stream",
     "text": [
      "<class 'set'>\n",
      "Not allow duplicate value:  {65, 2, 5, 22, 88, 77}\n",
      "Acess item:  65\n",
      "Acess item:  2\n",
      "Acess item:  5\n",
      "Acess item:  22\n",
      "Acess item:  88\n",
      "Acess item:  77\n",
      "Another way True\n",
      "Add item {65, 2, 2770, 5, 22, 88, 77}\n",
      "discard item {65, 2, 2770, 5, 22, 88}\n",
      "Set union:  {65, 2, 67, 5, 44, 2770, 22, 87, 88, 90, 987}\n",
      "Set union:  {2, 5}\n"
     ]
    }
   ],
   "source": [
    "duration = {2,5,22,77,88,65,2,5}\n",
    "print(type(duration))\n",
    "\n",
    "print('Not allow duplicate value: ', duration)\n",
    "\n",
    "#access item\n",
    "for x in duration:\n",
    "    print('Acess item: ', x)\n",
    "\n",
    "print('Another way',2 in duration)\n",
    "\n",
    "#add item\n",
    "duration.add(2770)\n",
    "print('Add item', duration)\n",
    "\n",
    "#remove\n",
    "duration.discard(77)\n",
    "print('discard item', duration)\n",
    "\n",
    "#del keyword\n",
    "#del duration\n",
    "#print(duration)\n",
    "\n",
    "#Set union\n",
    "success = {44,87,90,67,987,2,5}\n",
    "print('Set union: ', duration | success )\n",
    "\n",
    "#set intersection\n",
    "print('Set union: ', duration & success )"
   ]
  },
  {
   "cell_type": "markdown",
   "id": "17127ff7",
   "metadata": {},
   "source": [
    "# Dictionary"
   ]
  },
  {
   "cell_type": "code",
   "execution_count": 7,
   "id": "201fb693",
   "metadata": {},
   "outputs": [
    {
     "name": "stdout",
     "output_type": "stream",
     "text": [
      "<class 'dict'>\n",
      "{'python': 4, 'ML': 22, 'DL': 'aiQuest'}\n",
      "access using key :  4\n",
      "Get method aiQuest\n",
      "dict_keys(['python', 'ML', 'DL'])\n",
      "dict_values([4, 22, 'aiQuest'])\n",
      "{'python': 4, 'ML': 22, 'DL': 'aiQuest', 'DA': 21}\n",
      "{'python': 4, 'ML': 'StudyMart', 'DL': 'aiQuest', 'DA': 21}\n",
      "{'python': 4, 'ML': 'StudyMart', 'DA': 21}\n"
     ]
    }
   ],
   "source": [
    "Dict = {'python':4, 'ML':22, 'DL':'aiQuest'}\n",
    "print(type(Dict))\n",
    "print(Dict)\n",
    "\n",
    "#Access using key\n",
    "x = Dict['python']\n",
    "print(\"access using key : \", x)\n",
    "\n",
    "#get()\n",
    "x = Dict.get('DL')\n",
    "print('Get method', x)\n",
    "\n",
    "#keys()\n",
    "x = Dict.keys()\n",
    "print(x)\n",
    "\n",
    "#values()\n",
    "x = Dict.values()\n",
    "print(x)\n",
    "\n",
    "#adding Item\n",
    "Dict['DA'] = 21\n",
    "print(Dict)\n",
    "\n",
    "\n",
    "#update\n",
    "Dict.update({'ML':'StudyMart'})\n",
    "print(Dict)\n",
    "\n",
    "#pop()\n",
    "Dict.pop('DL')\n",
    "print(Dict)"
   ]
  },
  {
   "cell_type": "markdown",
   "id": "07bfac89",
   "metadata": {},
   "source": [
    "# Function"
   ]
  },
  {
   "cell_type": "code",
   "execution_count": null,
   "id": "fe1ade71",
   "metadata": {},
   "outputs": [],
   "source": [
    "def first_function(x,y):\n",
    "    c = x+y\n",
    "    print(c)\n",
    "\n",
    "first_function(10,5)\n",
    "first_function(50,45)\n",
    "\n",
    "\n",
    "#outside function\n",
    "def calculator(x,y):\n",
    "    c = x+y\n",
    "    d = x-y\n",
    "    e = x*y\n",
    "    f = x/y\n",
    "    return c,d,e,f\n",
    "\n",
    "sum, sub, mul, div = calculator(10,5)\n",
    "print('Sum:',sum, 'Sub:', sub, 'Mul: ', mul, 'Div: ', div)\n",
    "first_function(10,5)"
   ]
  },
  {
   "cell_type": "markdown",
   "id": "97a341aa",
   "metadata": {},
   "source": [
    "# OOP"
   ]
  },
  {
   "cell_type": "code",
   "execution_count": 8,
   "id": "3d2e4c25",
   "metadata": {},
   "outputs": [
    {
     "name": "stdout",
     "output_type": "stream",
     "text": [
      "Car name:  BMW Price:  300000000 Color:  Blue Wheel: 4\n",
      "Car name:  BMW Price:  300000000 Color:  Blue Wheel: 6\n",
      "Car name:  Audi Price:  600000000 Color:  Black Wheel: 4\n"
     ]
    }
   ],
   "source": [
    "class Car:\n",
    "    def __init__(self, name, price, color, wheel):\n",
    "        self.name = name\n",
    "        self.price = price\n",
    "        self.color = color\n",
    "        self.wheel = wheel\n",
    "\n",
    "    def details(self):\n",
    "        print('Car name: ', self.name, 'Price: ', self.price, 'Color: ', self.color, 'Wheel:', self.wheel)\n",
    "\n",
    "car1 = Car('BMW', 300000000, 'Blue', 4)\n",
    "car2 = Car('BMW', 300000000, 'Blue', 6)\n",
    "car3 = Car('Audi', 600000000, 'Black', 4)\n",
    "car1.details()\n",
    "car2.details()\n",
    "car3.details()"
   ]
  },
  {
   "cell_type": "markdown",
   "id": "606c15a9",
   "metadata": {},
   "source": [
    "# oop and inharitance"
   ]
  },
  {
   "cell_type": "code",
   "execution_count": 10,
   "id": "36fb073e",
   "metadata": {},
   "outputs": [
    {
     "name": "stdout",
     "output_type": "stream",
     "text": [
      "aiquest2\n",
      "StudyMart3\n",
      "aiquest2\n"
     ]
    }
   ],
   "source": [
    "class A:\n",
    "    def detail(self):\n",
    "        print(\"StudyMart\")\n",
    "\n",
    "    def details(self):\n",
    "        print(\"aiquest2\")\n",
    "\n",
    "class B(A):\n",
    "    def child(self):\n",
    "        print(\"StudyMart3\")\n",
    "\n",
    "    def childs(self):\n",
    "        print(\"aiquest4\")\n",
    "\n",
    "a = A()\n",
    "a.details()\n",
    "\n",
    "\n",
    "b = B()\n",
    "b.child()\n",
    "b.details()"
   ]
  },
  {
   "cell_type": "markdown",
   "id": "6f6f53b7",
   "metadata": {},
   "source": [
    "# oop inheritance"
   ]
  },
  {
   "cell_type": "code",
   "execution_count": 13,
   "id": "ef5ffbf5",
   "metadata": {},
   "outputs": [
    {
     "name": "stdout",
     "output_type": "stream",
     "text": [
      "aiquest2\n",
      "StudyMart3\n",
      "aiquest2\n"
     ]
    }
   ],
   "source": [
    "class A:\n",
    "    def detail(self):\n",
    "        print(\"StudyMart\")\n",
    "\n",
    "    def details(self):\n",
    "        print(\"aiquest2\")\n",
    "\n",
    "class B(A):\n",
    "    def child(self):\n",
    "        print(\"StudyMart3\")\n",
    "\n",
    "    def childs(self):\n",
    "        print(\"aiquest4\")\n",
    "\n",
    "a = A()\n",
    "a.details()\n",
    "\n",
    "\n",
    "b = B()\n",
    "b.child()\n",
    "b.details()"
   ]
  },
  {
   "cell_type": "code",
   "execution_count": null,
   "id": "c8b64e05",
   "metadata": {},
   "outputs": [],
   "source": []
  }
 ],
 "metadata": {
  "kernelspec": {
   "display_name": "Python 3 (ipykernel)",
   "language": "python",
   "name": "python3"
  },
  "language_info": {
   "codemirror_mode": {
    "name": "ipython",
    "version": 3
   },
   "file_extension": ".py",
   "mimetype": "text/x-python",
   "name": "python",
   "nbconvert_exporter": "python",
   "pygments_lexer": "ipython3",
   "version": "3.9.13"
  }
 },
 "nbformat": 4,
 "nbformat_minor": 5
}
